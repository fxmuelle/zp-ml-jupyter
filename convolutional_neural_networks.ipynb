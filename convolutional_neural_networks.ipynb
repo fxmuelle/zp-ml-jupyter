{
 "cells": [
  {
   "cell_type": "markdown",
   "metadata": {},
   "source": [
    "# Demonstration: Convolutional Neural Networks\n"
   ]
  },
  {
   "cell_type": "markdown",
   "metadata": {},
   "source": [
    "http://scs.ryerson.ca/~aharley/vis/conv/"
   ]
  },
  {
   "attachments": {},
   "cell_type": "markdown",
   "metadata": {},
   "source": [
    "### Arbeitsweise\n",
    "* Welche Architektur liegt vor?\n",
    "* Wie arbeiten die Filter?\n",
    "* Könnt ihr besonders auffällige Neuronen identifizieren?\n",
    "\n",
    "### Training\n",
    "* Welche Zahlen werden gut erkannt?\n",
    "* Wo hat das Training Schwächen?"
   ]
  },
  {
   "cell_type": "code",
   "execution_count": null,
   "metadata": {},
   "outputs": [],
   "source": []
  }
 ],
 "metadata": {
  "kernelspec": {
   "display_name": "Python 3",
   "language": "python",
   "name": "python3"
  },
  "language_info": {
   "codemirror_mode": {
    "name": "ipython",
    "version": 3
   },
   "file_extension": ".py",
   "mimetype": "text/x-python",
   "name": "python",
   "nbconvert_exporter": "python",
   "pygments_lexer": "ipython3",
   "version": "3.6.3"
  }
 },
 "nbformat": 4,
 "nbformat_minor": 2
}
